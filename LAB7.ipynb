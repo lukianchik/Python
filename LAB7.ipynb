{
 "cells": [
  {
   "cell_type": "code",
   "execution_count": 38,
   "metadata": {},
   "outputs": [
    {
     "name": "stdout",
     "output_type": "stream",
     "text": [
      "Ваше сообщение lukianchik3@gmail.com успешно отправлено\n"
     ]
    }
   ],
   "source": [
    "#client.py\n",
    "import socket\n",
    "\n",
    "def send_mail(mail_and_meassge):\n",
    "    HOST = '127.0.0.1' \n",
    "    PORT = 50007\n",
    "    with socket.socket(socket.AF_INET, socket.SOCK_STREAM) as s:\n",
    "        s.connect((HOST, PORT))\n",
    "        mail_and_meassge = bytes(mail_and_meassge, \"UTF-8\")\n",
    "        s.sendall(mail_and_meassge)\n",
    "        data = s.recv(1024)\n",
    "        receiver = repr(data)[1:].replace(\"'\", \"\")\n",
    "    if receiver == 'OK':\n",
    "        return True\n",
    "    else:\n",
    "        return False\n",
    "\n",
    "\n",
    "flag = 'y'\n",
    "while flag == 'y':\n",
    "    mail = input('Введите адрес почты: ')\n",
    "    msg = input(f'Введите сообщение, которое хотите отправить {mail}: ')\n",
    "    mail_and_meassge = mail + \"|\" + msg\n",
    "    flag = send_mail(mail_and_meassge)\n",
    "    if flag:\n",
    "        print(f'Ваше сообщение {mail} успешно отправлено')\n",
    "        break\n",
    "    else:\n",
    "        flag = input('Произошла ошибка при отправке сообщения. Ввести данные заново?(y/n): ')\n",
    "\n"
   ]
  },
  {
   "cell_type": "markdown",
   "metadata": {},
   "source": [
    "Сервер"
   ]
  },
  {
   "cell_type": "code",
   "execution_count": null,
   "metadata": {},
   "outputs": [],
   "source": [
    "import socket\n",
    "# import smtplib\n",
    "\n",
    "base_of_mails = [\n",
    "    'lukianchik3@gmail.com',\n",
    "    'lukianchik35@gmail.com',\n",
    "    'orioks@miet.ru'\n",
    "]\n",
    "\n",
    "HOST = '127.0.0.1'\n",
    "PORT = 50007\n",
    "\n",
    "while True:\n",
    "    with socket.socket(socket.AF_INET, socket.SOCK_STREAM) as s:\n",
    "        s.bind((HOST, PORT))\n",
    "        s.listen(1)\n",
    "        conn, addr = s.accept()\n",
    "\n",
    "        with conn:\n",
    "            print('Connected by', addr)\n",
    "\n",
    "            while True:\n",
    "                data = conn.recv(1024)\n",
    "                if not data:\n",
    "                    break\n",
    "\n",
    "                info = repr(data)[1:].replace(\"'\", \"\")\n",
    "                info = info.split('|')\n",
    "                mail, msg = info[0], info[1]\n",
    "\n",
    "                if (mail in base_of_mails) and len(msg) != 0:\n",
    "                    conn.sendall(b'OK')\n",
    "                    \n",
    "                    #Для корректной и настоящей отправки требуется авторизация, о чем нас не просят в задании\n",
    "                    # smtpObj = smtplib.SMTP('smtp.gmail.com', 587)\n",
    "                    # smtpObj.starttls()\n",
    "                    # smtpObj.login('justkiddingboat@gmail.com','just123kidding')\n",
    "                    # smtpObj.sendmail(\"justkiddingboat@gmail.com\", mail, msg)\n",
    "\n",
    "                else:\n",
    "                    conn.sendall(b'not OK')\n"
   ]
  }
 ],
 "metadata": {
  "kernelspec": {
   "display_name": "Python 3",
   "language": "python",
   "name": "python3"
  },
  "language_info": {
   "codemirror_mode": {
    "name": "ipython",
    "version": 3
   },
   "file_extension": ".py",
   "mimetype": "text/x-python",
   "name": "python",
   "nbconvert_exporter": "python",
   "pygments_lexer": "ipython3",
   "version": "3.11.4"
  },
  "orig_nbformat": 4
 },
 "nbformat": 4,
 "nbformat_minor": 2
}
